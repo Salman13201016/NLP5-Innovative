{
 "cells": [
  {
   "cell_type": "code",
   "execution_count": null,
   "metadata": {},
   "outputs": [
    {
     "name": "stdout",
     "output_type": "stream",
     "text": [
      "hellow\n"
     ]
    }
   ],
   "source": [
    "print(\"hello\")"
   ]
  },
  {
   "cell_type": "code",
   "execution_count": 1,
   "metadata": {},
   "outputs": [
    {
     "name": "stdout",
     "output_type": "stream",
     "text": [
      "   0  1467810369  Mon Apr 06 22:19:45 PDT 2009  NO_QUERY _TheSpecialOne_  \\\n",
      "0  0  1467810672  Mon Apr 06 22:19:49 PDT 2009  NO_QUERY   scotthamilton   \n",
      "1  0  1467810917  Mon Apr 06 22:19:53 PDT 2009  NO_QUERY        mattycus   \n",
      "2  0  1467811184  Mon Apr 06 22:19:57 PDT 2009  NO_QUERY         ElleCTF   \n",
      "3  0  1467811193  Mon Apr 06 22:19:57 PDT 2009  NO_QUERY          Karoli   \n",
      "4  0  1467811372  Mon Apr 06 22:20:00 PDT 2009  NO_QUERY        joy_wolf   \n",
      "\n",
      "  @switchfoot http://twitpic.com/2y1zl - Awww, that's a bummer.  You shoulda got David Carr of Third Day to do it. ;D  \n",
      "0  is upset that he can't update his Facebook by ...                                                                   \n",
      "1  @Kenichan I dived many times for the ball. Man...                                                                   \n",
      "2    my whole body feels itchy and like its on fire                                                                    \n",
      "3  @nationwideclass no, it's not behaving at all....                                                                   \n",
      "4                      @Kwesidei not the whole crew                                                                    \n"
     ]
    }
   ],
   "source": [
    "import pandas as pd\n",
    "\n",
    "\n",
    "file_path ='sentiment140.csv'\n",
    "\n",
    "df = pd.read_csv(file_path,encoding='ISO-8859-1')\n",
    "\n",
    "print(df.head())"
   ]
  },
  {
   "cell_type": "code",
   "execution_count": 2,
   "metadata": {},
   "outputs": [
    {
     "name": "stdout",
     "output_type": "stream",
     "text": [
      "shape: (5, 6)\n",
      "┌─────┬────────────┬─────────────────────┬──────────┬─────────────────┬────────────────────────────┐\n",
      "│ 0   ┆ 1467810369 ┆ Mon Apr 06 22:19:45 ┆ NO_QUERY ┆ _TheSpecialOne_ ┆ @switchfoot                │\n",
      "│ --- ┆ ---        ┆ PDT 2009            ┆ ---      ┆ ---             ┆ http://twitpic.com…        │\n",
      "│ i64 ┆ i64        ┆ ---                 ┆ str      ┆ str             ┆ ---                        │\n",
      "│     ┆            ┆ str                 ┆          ┆                 ┆ str                        │\n",
      "╞═════╪════════════╪═════════════════════╪══════════╪═════════════════╪════════════════════════════╡\n",
      "│ 0   ┆ 1467810672 ┆ Mon Apr 06 22:19:49 ┆ NO_QUERY ┆ scotthamilton   ┆ is upset that he can't     │\n",
      "│     ┆            ┆ PDT 2009            ┆          ┆                 ┆ update …                   │\n",
      "│ 0   ┆ 1467810917 ┆ Mon Apr 06 22:19:53 ┆ NO_QUERY ┆ mattycus        ┆ @Kenichan I dived many     │\n",
      "│     ┆            ┆ PDT 2009            ┆          ┆                 ┆ times f…                   │\n",
      "│ 0   ┆ 1467811184 ┆ Mon Apr 06 22:19:57 ┆ NO_QUERY ┆ ElleCTF         ┆ my whole body feels itchy  │\n",
      "│     ┆            ┆ PDT 2009            ┆          ┆                 ┆ and …                      │\n",
      "│ 0   ┆ 1467811193 ┆ Mon Apr 06 22:19:57 ┆ NO_QUERY ┆ Karoli          ┆ @nationwideclass no, it's  │\n",
      "│     ┆            ┆ PDT 2009            ┆          ┆                 ┆ not …                      │\n",
      "│ 0   ┆ 1467811372 ┆ Mon Apr 06 22:20:00 ┆ NO_QUERY ┆ joy_wolf        ┆ @Kwesidei not the whole    │\n",
      "│     ┆            ┆ PDT 2009            ┆          ┆                 ┆ crew                       │\n",
      "└─────┴────────────┴─────────────────────┴──────────┴─────────────────┴────────────────────────────┘\n"
     ]
    }
   ],
   "source": [
    "import polars as pl\n",
    "\n",
    "\n",
    "file_path ='sentiment140.csv'\n",
    "\n",
    "df1 = pl.read_csv(file_path,encoding='ISO-8859-1')\n",
    "\n",
    "print(df1.head())"
   ]
  },
  {
   "cell_type": "code",
   "execution_count": 4,
   "metadata": {},
   "outputs": [],
   "source": [
    "import requests"
   ]
  },
  {
   "cell_type": "code",
   "execution_count": 5,
   "metadata": {},
   "outputs": [
    {
     "name": "stdout",
     "output_type": "stream",
     "text": [
      "   userId  id                                              title  \\\n",
      "0       1   1  sunt aut facere repellat provident occaecati e...   \n",
      "1       1   2                                       qui est esse   \n",
      "2       1   3  ea molestias quasi exercitationem repellat qui...   \n",
      "3       1   4                               eum et est occaecati   \n",
      "4       1   5                                 nesciunt quas odio   \n",
      "\n",
      "                                                body  \n",
      "0  quia et suscipit\\nsuscipit recusandae consequu...  \n",
      "1  est rerum tempore vitae\\nsequi sint nihil repr...  \n",
      "2  et iusto sed quo iure\\nvoluptatem occaecati om...  \n",
      "3  ullam et saepe reiciendis voluptatem adipisci\\...  \n",
      "4  repudiandae veniam quaerat sunt sed\\nalias aut...  \n"
     ]
    }
   ],
   "source": [
    "url = 'https://jsonplaceholder.typicode.com/posts'\n",
    "\n",
    "# GET অনুরোধ পাঠান\n",
    "response = requests.get(url)\n",
    "\n",
    "# JSON ডেটা পার্স করুন\n",
    "data = response.json()\n",
    "\n",
    "df3 = pd.DataFrame(data)\n",
    "\n",
    "# DataFrame এর প্রথম 5টি রেকর্ড প্রিন্ট করুন\n",
    "print(df3.head())"
   ]
  },
  {
   "cell_type": "code",
   "execution_count": 3,
   "metadata": {},
   "outputs": [],
   "source": [
    "import mysql.connector"
   ]
  },
  {
   "cell_type": "code",
   "execution_count": 4,
   "metadata": {},
   "outputs": [],
   "source": [
    "# Replace these with your database details\n",
    "username = 'root'              # Your MySQL username (default for XAMPP is 'root')\n",
    "password = ''                  # Your MySQL password (default for XAMPP is '' (empty))\n",
    "database_name = 'sample_nlp_5'       # Your database name\n",
    "host = 'localhost'             # Default host for local MySQL server\n",
    "port = 3306  "
   ]
  },
  {
   "cell_type": "code",
   "execution_count": 5,
   "metadata": {},
   "outputs": [
    {
     "ename": "",
     "evalue": "",
     "output_type": "error",
     "traceback": [
      "\u001b[1;31mThe Kernel crashed while executing code in the current cell or a previous cell. \n",
      "\u001b[1;31mPlease review the code in the cell(s) to identify a possible cause of the failure. \n",
      "\u001b[1;31mClick <a href='https://aka.ms/vscodeJupyterKernelCrash'>here</a> for more info. \n",
      "\u001b[1;31mView Jupyter <a href='command:jupyter.viewOutput'>log</a> for further details."
     ]
    }
   ],
   "source": [
    "conn = mysql.connector.connect(\n",
    "    host=host,\n",
    "    user=username,\n",
    "    password=password,\n",
    "    database=database_name,\n",
    "    port=port\n",
    ")"
   ]
  },
  {
   "cell_type": "code",
   "execution_count": null,
   "metadata": {},
   "outputs": [],
   "source": []
  }
 ],
 "metadata": {
  "kernelspec": {
   "display_name": "Python 3",
   "language": "python",
   "name": "python3"
  },
  "language_info": {
   "codemirror_mode": {
    "name": "ipython",
    "version": 3
   },
   "file_extension": ".py",
   "mimetype": "text/x-python",
   "name": "python",
   "nbconvert_exporter": "python",
   "pygments_lexer": "ipython3",
   "version": "3.13.0"
  }
 },
 "nbformat": 4,
 "nbformat_minor": 2
}
